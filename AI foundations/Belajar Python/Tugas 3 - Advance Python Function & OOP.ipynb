{
  "nbformat": 4,
  "nbformat_minor": 0,
  "metadata": {
    "colab": {
      "name": "Tugas 07/03/22.ipynb",
      "provenance": [],
      "collapsed_sections": [
        "D4ehrB497pk1",
        "Jvq5ERK79dnx",
        "bWkOu6ht8OVm",
        "CK-X7O1RhbLM",
        "UOyv95rR-rID",
        "-DwCuL0GmwNx",
        "NTz2584PoOdz",
        "whuDqFpPpByo",
        "2kg1a4hlrY4i",
        "7vVerZANrxke",
        "qaRJjQ8wuXSi",
        "l_bP_F99vm5V",
        "Qkap-g9ow6c4",
        "GbHJfq2nypSR",
        "jSxLZSR_2PJy",
        "LRGOeQ0r4op8",
        "KLPIQAPQ5KBo",
        "8eJHjr3e6r3G",
        "EUDNjHd48NaO"
      ]
    },
    "kernelspec": {
      "name": "python3",
      "display_name": "Python 3"
    },
    "language_info": {
      "name": "python"
    }
  },
  "cells": [
    {
      "cell_type": "markdown",
      "source": [
        "# Function\n",
        "Misalkan kita ingin menyanyikan lagu ulang tahun untuk Julee Kemudian kita mencetak baris berikut:"
      ],
      "metadata": {
        "id": "rpnKViI9v6dC"
      }
    },
    {
      "cell_type": "code",
      "execution_count": null,
      "metadata": {
        "colab": {
          "base_uri": "https://localhost:8080/"
        },
        "id": "_erjEN0mvi9S",
        "outputId": "70e95365-9040-4d9d-a93e-f3dc6f467772"
      },
      "outputs": [
        {
          "output_type": "stream",
          "name": "stdout",
          "text": [
            "Happy Birthday to you!\n",
            "Happy Birthday to you!\n",
            "Happy Birthday, dear kartik.\n",
            "Happy Birthday to you!\n"
          ]
        }
      ],
      "source": [
        "print(\"Happy Birthday to you!\")\n",
        "print(\"Happy Birthday to you!\")\n",
        "print(\"Happy Birthday, dear kartik.\")\n",
        "print(\"Happy Birthday to you!\")"
      ]
    },
    {
      "cell_type": "markdown",
      "source": [
        "## Definisi fungsi\n",
        "kita bisa mendefinisikan fungsi untuk mencetak baris lagu ulang tahun"
      ],
      "metadata": {
        "id": "D4ehrB497pk1"
      }
    },
    {
      "cell_type": "code",
      "source": [
        "def happy_birthday_to_kartik(): # Mendefinisikan fungsi\n",
        "  \"\"\"\n",
        "  Print lagu ulang tahun untuk kartik.\n",
        "  \"\"\"\n",
        "  print(\"Happy Birthday to you!\")\n",
        "  print(\"Happy Birthday to you!\")\n",
        "  print(\"Happy Birthday, dear kartik.\")\n",
        "  print(\"Happy Birthday to you!\")"
      ],
      "metadata": {
        "id": "WStk0JMY7oLl"
      },
      "execution_count": null,
      "outputs": []
    },
    {
      "cell_type": "markdown",
      "source": [
        "## Memanggil fungsi"
      ],
      "metadata": {
        "id": "Jvq5ERK79dnx"
      }
    },
    {
      "cell_type": "code",
      "source": [
        "# memanggil fungsi:\n",
        "print('Function call 1')\n",
        "happy_birthday_to_kartik()\n",
        "print()\n",
        "# Kita dapat memanggil fungsi tersebut sebanyak banyaknya \n",
        "# Kita cukup mendefinisikan fungsi sekali\n",
        "print('Function call 2')\n",
        "happy_birthday_to_kartik()\n",
        "print()\n",
        "print('Function call 3')\n",
        "happy_birthday_to_kartik()\n",
        "print()\n",
        "# Bukan memanggil fungsi\n",
        "print('This is not a function call')\n",
        "happy_birthday_to_kartik"
      ],
      "metadata": {
        "colab": {
          "base_uri": "https://localhost:8080/"
        },
        "id": "Rb9HHSix8Pz0",
        "outputId": "406e31c3-634a-48ad-cf5a-eaaea6512475"
      },
      "execution_count": null,
      "outputs": [
        {
          "output_type": "stream",
          "name": "stdout",
          "text": [
            "Function call 1\n",
            "Happy Birthday to you!\n",
            "Happy Birthday to you!\n",
            "Happy Birthday, dear kartik.\n",
            "Happy Birthday to you!\n",
            "\n",
            "Function call 2\n",
            "Happy Birthday to you!\n",
            "Happy Birthday to you!\n",
            "Happy Birthday, dear kartik.\n",
            "Happy Birthday to you!\n",
            "\n",
            "Function call 3\n",
            "Happy Birthday to you!\n",
            "Happy Birthday to you!\n",
            "Happy Birthday, dear kartik.\n",
            "Happy Birthday to you!\n",
            "\n",
            "This is not a function call\n"
          ]
        },
        {
          "output_type": "execute_result",
          "data": {
            "text/plain": [
              "<function __main__.happy_birthday_to_kartik>"
            ]
          },
          "metadata": {},
          "execution_count": 3
        }
      ]
    },
    {
      "cell_type": "markdown",
      "source": [
        "### Memanggil fungsi dari fungsi lain\n",
        "sangat membantu jika kita ingin membagi tugas kita menjadi subtugas yang lebih kecil dan lebih mudah dikelola"
      ],
      "metadata": {
        "id": "bWkOu6ht8OVm"
      }
    },
    {
      "cell_type": "code",
      "source": [
        "def new_line():\n",
        "  \"\"\"Print a new line.\"\"\"\n",
        "  print()\n",
        "def two_new_lines():\n",
        "  \"\"\"Print two new lines.\"\"\"\n",
        "  new_line()\n",
        "new_line()\n",
        "print(\"Printing a single line...\")\n",
        "new_line()\n",
        "print(\"Printing two lines...\")\n",
        "two_new_lines()\n",
        "print(\"Printed two lines\")"
      ],
      "metadata": {
        "colab": {
          "base_uri": "https://localhost:8080/"
        },
        "id": "Zz7Wc7oY9qXe",
        "outputId": "abbc2be7-56c6-42a5-de93-77f425910bd6"
      },
      "execution_count": null,
      "outputs": [
        {
          "output_type": "stream",
          "name": "stdout",
          "text": [
            "\n",
            "Printing a single line...\n",
            "\n",
            "Printing two lines...\n",
            "\n",
            "Printed two lines\n"
          ]
        }
      ]
    },
    {
      "cell_type": "code",
      "source": [
        "help(happy_birthday_to_kartik)"
      ],
      "metadata": {
        "colab": {
          "base_uri": "https://localhost:8080/"
        },
        "id": "yDNggn65-H3g",
        "outputId": "d7068de9-2658-4a89-fcda-6742989d2e2b"
      },
      "execution_count": null,
      "outputs": [
        {
          "output_type": "stream",
          "name": "stdout",
          "text": [
            "Help on function happy_birthday_to_kartik in module __main__:\n",
            "\n",
            "happy_birthday_to_kartik()\n",
            "    Print lagu ulang tahun untuk kartik.\n",
            "\n"
          ]
        }
      ]
    },
    {
      "cell_type": "code",
      "source": [
        "type(happy_birthday_to_kartik)"
      ],
      "metadata": {
        "colab": {
          "base_uri": "https://localhost:8080/"
        },
        "id": "AwU0nZuO-Suw",
        "outputId": "83923634-ab4c-43de-eedf-d711bd2793c3"
      },
      "execution_count": null,
      "outputs": [
        {
          "output_type": "execute_result",
          "data": {
            "text/plain": [
              "function"
            ]
          },
          "metadata": {},
          "execution_count": 8
        }
      ]
    },
    {
      "cell_type": "markdown",
      "source": [
        "## Input fungsi"
      ],
      "metadata": {
        "id": "CK-X7O1RhbLM"
      }
    },
    {
      "cell_type": "markdown",
      "source": [
        "### Parameter dan argument\n",
        "**Parameter**: Nama variabel dalam definisi fungsi.\n",
        "\n",
        "**Argument**: Nilai untuk parameter pada saat fungsi dipanggil."
      ],
      "metadata": {
        "id": "UOyv95rR-rID"
      }
    },
    {
      "cell_type": "code",
      "source": [
        "# Mendefinisikan fungsi dengan parameter 'name'\n",
        "def happy_birthday(name):\n",
        "  \"\"\"\n",
        "  Print a birthday song with the \"name\" of the person inserted.\n",
        "  \"\"\"\n",
        "  print(\"Happy Birthday to you!\")\n",
        "  print(\"Happy Birthday to you!\")\n",
        "  print(f\"Happy Birthday, dear {name}.\")\n",
        "  print(\"Happy Birthday to you!\")\n",
        "\n",
        "# Memanggil fungsi dengan nilai argumen tertentu\n",
        "happy_birthday(\"kartik\")"
      ],
      "metadata": {
        "colab": {
          "base_uri": "https://localhost:8080/"
        },
        "id": "3029r57t-vE4",
        "outputId": "544d89cf-5b7a-440e-d100-dd11d1fa8dcf"
      },
      "execution_count": 9,
      "outputs": [
        {
          "output_type": "stream",
          "name": "stdout",
          "text": [
            "Happy Birthday to you!\n",
            "Happy Birthday to you!\n",
            "Happy Birthday, dear kartik.\n",
            "Happy Birthday to you!\n"
          ]
        }
      ]
    },
    {
      "cell_type": "markdown",
      "source": [
        "Variabel `my_name` pada pemanggilan fungsi di bawah ini adalah nilai untuk parameter `name`"
      ],
      "metadata": {
        "id": "dcsyxxRFitzD"
      }
    },
    {
      "cell_type": "code",
      "source": [
        "my_name = \"kartik\"\n",
        "happy_birthday(my_name)"
      ],
      "metadata": {
        "colab": {
          "base_uri": "https://localhost:8080/"
        },
        "id": "IuIpBTEd_8EQ",
        "outputId": "ceb6cec1-2dc3-45e9-f100-da4e18699360"
      },
      "execution_count": null,
      "outputs": [
        {
          "output_type": "stream",
          "name": "stdout",
          "text": [
            "Happy Birthday to you!\n",
            "Happy Birthday to you!\n",
            "Happy Birthday, dear kartik.\n",
            "Happy Birthday to you!\n"
          ]
        }
      ]
    },
    {
      "cell_type": "markdown",
      "source": [
        "jika parameter `name` tidak diisi, maka akan error"
      ],
      "metadata": {
        "id": "ns9Xp1FpmDGS"
      }
    },
    {
      "cell_type": "code",
      "source": [
        "happy_birthday()"
      ],
      "metadata": {
        "colab": {
          "base_uri": "https://localhost:8080/",
          "height": 167
        },
        "id": "DHL7YeYbAR9y",
        "outputId": "ff314765-b4c0-497a-93a6-01fea13c470b"
      },
      "execution_count": null,
      "outputs": [
        {
          "output_type": "error",
          "ename": "TypeError",
          "evalue": "ignored",
          "traceback": [
            "\u001b[0;31m---------------------------------------------------------------------------\u001b[0m",
            "\u001b[0;31mTypeError\u001b[0m                                 Traceback (most recent call last)",
            "\u001b[0;32m<ipython-input-11-e6218e6c7f60>\u001b[0m in \u001b[0;36m<module>\u001b[0;34m()\u001b[0m\n\u001b[0;32m----> 1\u001b[0;31m \u001b[0mhappy_birthday\u001b[0m\u001b[0;34m(\u001b[0m\u001b[0;34m)\u001b[0m\u001b[0;34m\u001b[0m\u001b[0;34m\u001b[0m\u001b[0m\n\u001b[0m",
            "\u001b[0;31mTypeError\u001b[0m: happy_birthday() missing 1 required positional argument: 'name'"
          ]
        }
      ]
    },
    {
      "cell_type": "markdown",
      "source": [
        "Fungsi dapat menerima banyak parameter (lebih dari 1)."
      ],
      "metadata": {
        "id": "8qVWWawzmdBP"
      }
    },
    {
      "cell_type": "code",
      "source": [
        "def multiply(x, y):\n",
        "  \"\"\"Multiply two numeric values.\"\"\"\n",
        "  result = x * y\n",
        "  print(result)\n",
        "\n",
        "multiply(2020,5278238)\n",
        "multiply(2,3)"
      ],
      "metadata": {
        "colab": {
          "base_uri": "https://localhost:8080/"
        },
        "id": "yyjBZH-BAQa6",
        "outputId": "b7cd55d0-b8f5-4035-9ace-65c58bcb7912"
      },
      "execution_count": null,
      "outputs": [
        {
          "output_type": "stream",
          "name": "stdout",
          "text": [
            "10662040760\n",
            "6\n"
          ]
        }
      ]
    },
    {
      "cell_type": "markdown",
      "source": [
        "### Positional vs keyword parameter dan argument"
      ],
      "metadata": {
        "id": "-DwCuL0GmwNx"
      }
    },
    {
      "cell_type": "code",
      "source": [
        "# x and y adalah positional parameter, third_number adalah keyword parameter\n",
        "def multiply(x, y, third_number=1):\n",
        "  \"\"\"Multiply two or three numbers and print the result.\"\"\"\n",
        "  result=x*y*third_number\n",
        "  print(result)\n",
        "\n",
        "multiply(2,3) # hanya memberi nilai untuk positional parameter\n",
        "multiply(2,3,third_number=4) # memberi nilai untuk semua parameter"
      ],
      "metadata": {
        "colab": {
          "base_uri": "https://localhost:8080/"
        },
        "id": "snMg27GXBhj4",
        "outputId": "7de59d7c-48b5-477b-81e4-a35f64c1a178"
      },
      "execution_count": 10,
      "outputs": [
        {
          "output_type": "stream",
          "name": "stdout",
          "text": [
            "6\n",
            "24\n"
          ]
        }
      ]
    },
    {
      "cell_type": "markdown",
      "source": [
        "## Output: `return` statement"
      ],
      "metadata": {
        "id": "NTz2584PoOdz"
      }
    },
    {
      "cell_type": "code",
      "source": [
        "def multiply(x, y):\n",
        "  \"\"\"Multiply two numbers and return the result.\"\"\"\n",
        "  multiplied = x * y\n",
        "  return multiplied\n",
        "\n",
        "# assign nilai yang dikembalikan ke variabel z\n",
        "result = multiply(2, 5)\n",
        "print(result)"
      ],
      "metadata": {
        "colab": {
          "base_uri": "https://localhost:8080/"
        },
        "id": "CAJW5XCaBrvl",
        "outputId": "e4a67993-2a60-4dc5-afa3-a74bac6a6579"
      },
      "execution_count": 11,
      "outputs": [
        {
          "output_type": "stream",
          "name": "stdout",
          "text": [
            "10\n"
          ]
        }
      ]
    },
    {
      "cell_type": "code",
      "source": [
        "multiply(30,20)"
      ],
      "metadata": {
        "colab": {
          "base_uri": "https://localhost:8080/"
        },
        "id": "mCmBgTuwCBFQ",
        "outputId": "b971de28-5770-46e2-b80a-1d8da122e90c"
      },
      "execution_count": null,
      "outputs": [
        {
          "output_type": "execute_result",
          "data": {
            "text/plain": [
              "600"
            ]
          },
          "metadata": {},
          "execution_count": 15
        }
      ]
    },
    {
      "cell_type": "markdown",
      "source": [
        "### Return banyak nilai"
      ],
      "metadata": {
        "id": "whuDqFpPpByo"
      }
    },
    {
      "cell_type": "code",
      "source": [
        "def calculate(x,y):\n",
        "  \"\"\"Calculate product and sum of two numbers.\"\"\"\n",
        "  product = x * y\n",
        "  summed = x + y\n",
        "\n",
        "  # nilai dikembalikan dalam sebuah tuple\n",
        "  return product, summed\n",
        "\n",
        "# fungsi mengembalikan tuple dan kita taruh ke var1 dan var2\n",
        "var1, var2 = calculate(10,5)\n",
        "print(\"product:\",var1,\"sum:\",var2)"
      ],
      "metadata": {
        "colab": {
          "base_uri": "https://localhost:8080/"
        },
        "id": "0e5DIdl1CEUs",
        "outputId": "89cf914c-b84a-471e-ec98-10c1a8004582"
      },
      "execution_count": 12,
      "outputs": [
        {
          "output_type": "stream",
          "name": "stdout",
          "text": [
            "product: 50 sum: 15\n"
          ]
        }
      ]
    },
    {
      "cell_type": "markdown",
      "source": [
        "## Lambda - anonymous function\n",
        "**anonymous function** adalah fungsi yang didefinisikan tanpa nama. Lambda dapat menerima sejumlah argument tetapi mengembalikan hanya satu nilai dalam bentuk expression.\n",
        "\n",
        "Syntax:\n",
        "\n",
        "lambda **argument_list**: **expression**"
      ],
      "metadata": {
        "id": "hM1Yq9AdpvKu"
      }
    },
    {
      "cell_type": "code",
      "source": [
        "# Program to show the use of lambda functions\n",
        "double = lambda x: x * 2\n",
        "print(double(6))"
      ],
      "metadata": {
        "colab": {
          "base_uri": "https://localhost:8080/"
        },
        "id": "og1uR9MqCX4u",
        "outputId": "fe72add1-abfa-416c-d808-7fafd18d475d"
      },
      "execution_count": null,
      "outputs": [
        {
          "output_type": "stream",
          "name": "stdout",
          "text": [
            "12\n"
          ]
        }
      ]
    },
    {
      "cell_type": "markdown",
      "source": [
        "### fungsi built-in untuk lambda : `filter()`"
      ],
      "metadata": {
        "id": "2kg1a4hlrY4i"
      }
    },
    {
      "cell_type": "code",
      "source": [
        "# Program to filter out only the even items from a list\n",
        "my_list = [1, 5, 4, 6, 8, 11, 3, 12] # total 8 elemen\n",
        "new_list = list(filter(lambda x: (x%2 == 0), my_list)) # return output dalam list\n",
        "print(\"Even numbers are: \", new_list)"
      ],
      "metadata": {
        "colab": {
          "base_uri": "https://localhost:8080/"
        },
        "id": "e4RQ7txGCuiU",
        "outputId": "e4049d12-5b73-4371-b3ad-4a5c9a8fd357"
      },
      "execution_count": 14,
      "outputs": [
        {
          "output_type": "stream",
          "name": "stdout",
          "text": [
            "Even numbers are:  [4, 6, 8, 12]\n"
          ]
        }
      ]
    },
    {
      "cell_type": "markdown",
      "source": [
        "### fungsi built-in untuk lambda : `map()`"
      ],
      "metadata": {
        "id": "7vVerZANrxke"
      }
    },
    {
      "cell_type": "code",
      "source": [
        "# Program to double each item in a list using map()\n",
        "my_list = [1, 5, 4, 6, 8, 11, 3, 12] # total 8 elemen\n",
        "new_list = list(map(lambda x: x * 2, my_list)) # return output dalam list\n",
        "print(\"Double values are: \", new_list)"
      ],
      "metadata": {
        "colab": {
          "base_uri": "https://localhost:8080/"
        },
        "id": "_Fc201EoD33K",
        "outputId": "c5fe97fc-2d7c-42e6-c39b-b878a5d28273"
      },
      "execution_count": 15,
      "outputs": [
        {
          "output_type": "stream",
          "name": "stdout",
          "text": [
            "Double values are:  [2, 10, 8, 12, 16, 22, 6, 24]\n"
          ]
        }
      ]
    },
    {
      "cell_type": "markdown",
      "source": [
        "### fungsi built-in untuk lambda : `reduce()`\n",
        "\n",
        "Fungsi `reduce()` digunakan untuk meringkas elemen barisan menjadi nilai tunggal dengan menerapkan kondisi tertentu."
      ],
      "metadata": {
        "id": "MywZJEUpshMI"
      }
    },
    {
      "cell_type": "code",
      "source": [
        "from functools import reduce\n",
        "list1 = [20, 13, 4, 8, 9]\n",
        "add = reduce(lambda x, y: x+y, list1)\n",
        "print(\"Addition of all list elements is : \", add)"
      ],
      "metadata": {
        "colab": {
          "base_uri": "https://localhost:8080/"
        },
        "id": "ymcUraqnD-H4",
        "outputId": "5e6e9e0d-c822-4234-f424-1f75e28a263c"
      },
      "execution_count": null,
      "outputs": [
        {
          "output_type": "stream",
          "name": "stdout",
          "text": [
            "Addition of all list elements is :  54\n"
          ]
        }
      ]
    },
    {
      "cell_type": "markdown",
      "source": [
        "# Object Oriented Programming (OOP)\n",
        "(OOP) adalah paradigma pemrograman yang didasarkan pada konsep \"objek\". Objek berisi data dan program: Data dalam bentuk variabel (dikenal sebagai atribut), dan program dalam bentuk metode (tindakan yang dapat dilakukan objek).\n",
        "\n",
        "Suatu objek punya dua karakteristik:\n",
        "*   atribut\n",
        "*   perilaku"
      ],
      "metadata": {
        "id": "21Dnh8Nys_mN"
      }
    },
    {
      "cell_type": "markdown",
      "source": [
        "## Class\n",
        "`class` adalah *blueprint* untuk objek. Untuk membuat objek kita memerlukan model atau *blueprint* yaitu `class`."
      ],
      "metadata": {
        "id": "qaRJjQ8wuXSi"
      }
    },
    {
      "cell_type": "markdown",
      "source": [
        "Syntax:\n",
        "\n",
        "```\n",
        "class classname:\n",
        "  '''documentation string'''\n",
        "  class_suite\n",
        "```\n",
        "\n"
      ],
      "metadata": {
        "id": "sSUIjHH0vOYM"
      }
    },
    {
      "cell_type": "code",
      "source": [
        "class Parrot:\n",
        "  pass\n",
        "\n",
        "# Membuat class\n",
        "class Person:\n",
        "  pass\n",
        "  \n",
        "print(Person)"
      ],
      "metadata": {
        "colab": {
          "base_uri": "https://localhost:8080/"
        },
        "id": "5nppk1EnGCY-",
        "outputId": "f1177e0e-c947-4d64-cefa-06a4d0a37b90"
      },
      "execution_count": 16,
      "outputs": [
        {
          "output_type": "stream",
          "name": "stdout",
          "text": [
            "<class '__main__.Person'>\n"
          ]
        }
      ]
    },
    {
      "cell_type": "markdown",
      "source": [
        "## Objek\n",
        "sebuah objek (instance) adalah sebuah instansiasi dari sebuah `class`. objek adalah entitas yang memiliki atribut dan perilaku."
      ],
      "metadata": {
        "id": "l_bP_F99vm5V"
      }
    },
    {
      "cell_type": "markdown",
      "source": [
        "Syntax:\n",
        "\n",
        "`reference_variable = classname()`"
      ],
      "metadata": {
        "id": "h8TA2URswIzi"
      }
    },
    {
      "cell_type": "code",
      "source": [
        "obj = Parrot()\n",
        "p = Person()\n",
        "print(p)\n",
        "\n",
        "# Contoh 1: Membuat sebuah objek dengan memanggil class\n",
        "p = Person()\n",
        "print(p)"
      ],
      "metadata": {
        "colab": {
          "base_uri": "https://localhost:8080/"
        },
        "id": "VjrPC03LE6gu",
        "outputId": "e6f2c326-e5fa-469b-c199-7145dbe03151"
      },
      "execution_count": 17,
      "outputs": [
        {
          "output_type": "stream",
          "name": "stdout",
          "text": [
            "<__main__.Person object at 0x7f4b5fd58590>\n",
            "<__main__.Person object at 0x7f4b5fd58cd0>\n"
          ]
        }
      ]
    },
    {
      "cell_type": "code",
      "source": [
        "# Contoh 2: Membuat Class dan Object di Python\n",
        "class Student:\n",
        "  \"\"\"This is student class with data\"\"\"\n",
        "  def learn(self): # contoh method\n",
        "    print(\"Welcome to Dr. Milaan Parmar's class on Python Programming\")\n",
        "\n",
        "stud = Student() # Membuat object\n",
        "stud.learn() # Memanggil method\n",
        "# Output: Welcome to Dr. Milaan Parmar's class"
      ],
      "metadata": {
        "colab": {
          "base_uri": "https://localhost:8080/"
        },
        "id": "-Uc1yvj7Gi5N",
        "outputId": "5e0b3a88-e37f-4d07-af28-fb79989fa49a"
      },
      "execution_count": 18,
      "outputs": [
        {
          "output_type": "stream",
          "name": "stdout",
          "text": [
            "Welcome to Dr. Milaan Parmar's class on Python Programming\n"
          ]
        }
      ]
    },
    {
      "cell_type": "markdown",
      "source": [
        "## Class Constructor\n",
        "Python memiliki fungsi constructor bawaan `__init__()`. Fungsi Constructor `__init__()` memiliki parameter `self` yang merupakan referensi ke instance dari class saat ini."
      ],
      "metadata": {
        "id": "Qkap-g9ow6c4"
      }
    },
    {
      "cell_type": "code",
      "source": [
        "class Person:\n",
        "  def __init__ (self, name):\n",
        "    # self memungkinkan untuk menambahkan parameter ke class\n",
        "    self.name = name\n",
        "\n",
        "p = Person('Milaan')\n",
        "print(p.name)\n",
        "print(p)"
      ],
      "metadata": {
        "colab": {
          "base_uri": "https://localhost:8080/"
        },
        "id": "nyKxNSHKIBuF",
        "outputId": "89af9b38-e90e-4669-f022-51e727b14a33"
      },
      "execution_count": 19,
      "outputs": [
        {
          "output_type": "stream",
          "name": "stdout",
          "text": [
            "Milaan\n",
            "<__main__.Person object at 0x7f4b5fd40990>\n"
          ]
        }
      ]
    },
    {
      "cell_type": "markdown",
      "source": [
        "class dengan banyak parameter pada fungsi constructor"
      ],
      "metadata": {
        "id": "mDjtO6dDyJFe"
      }
    },
    {
      "cell_type": "code",
      "source": [
        "class Person:\n",
        "  def __init__(self, firstname, lastname, age, country, city):\n",
        "    self.firstname = firstname\n",
        "    self.lastname = lastname\n",
        "    self.age = age\n",
        "    self.country = country\n",
        "    self.city = city\n",
        "\n",
        "p = Person('Milaan', 'Parmar', 96, 'England', 'London')\n",
        "print(p.firstname)\n",
        "print(p.lastname)\n",
        "print(p.age)\n",
        "print(p.country)"
      ],
      "metadata": {
        "colab": {
          "base_uri": "https://localhost:8080/"
        },
        "id": "Bzibo0GzISBC",
        "outputId": "fff22092-f598-4a6c-d3fc-20294d4f406b"
      },
      "execution_count": null,
      "outputs": [
        {
          "output_type": "stream",
          "name": "stdout",
          "text": [
            "Milaan\n",
            "Parmar\n",
            "96\n",
            "England\n"
          ]
        }
      ]
    },
    {
      "cell_type": "markdown",
      "source": [
        "## Variable dan Method dari Instance"
      ],
      "metadata": {
        "id": "GbHJfq2nypSR"
      }
    },
    {
      "cell_type": "markdown",
      "source": [
        "dalam bekerja dengan variabel dan method dari instance, kita gunakan keyword `self`."
      ],
      "metadata": {
        "id": "S2BhtOfaz7K5"
      }
    },
    {
      "cell_type": "code",
      "source": [
        "# Contoh 2: Membuat Class dan Object di Python\n",
        "class Student:\n",
        "  def __init__(self, name, percentage):\n",
        "    self.name = name\n",
        "    self.percentage = percentage\n",
        "    \n",
        "  def show(self):\n",
        "    print(\"Name is:\", self.name, \"and percentage is:\",\n",
        "    self.percentage)"
      ],
      "metadata": {
        "id": "_U7qGpv8Igtz"
      },
      "execution_count": 23,
      "outputs": []
    },
    {
      "cell_type": "markdown",
      "source": [
        "Kita dapat mengakses variabel dan method dari instance menggunakan objek. Gunakan operator titik (.) untuk mengakses variabel dan method dari instance."
      ],
      "metadata": {
        "id": "sTO7pNwR0n_o"
      }
    },
    {
      "cell_type": "code",
      "source": [
        "stud = Student(\"Arthur\", 90)\n",
        "stud.show()\n",
        "# Output Name is: Arthur and percentage is: 90"
      ],
      "metadata": {
        "colab": {
          "base_uri": "https://localhost:8080/"
        },
        "id": "bZULgg4v0kib",
        "outputId": "fceb36c4-bf25-46e8-cda4-2db80338562f"
      },
      "execution_count": 21,
      "outputs": [
        {
          "output_type": "stream",
          "name": "stdout",
          "text": [
            "Name is: Arthur and percentage is: 90\n"
          ]
        }
      ]
    },
    {
      "cell_type": "markdown",
      "source": [
        "perbedaan antara class attribute dengan instance attribute"
      ],
      "metadata": {
        "id": "os4ypEFy1zj1"
      }
    },
    {
      "cell_type": "code",
      "source": [
        "# Contoh 3: Membuat Class dan Object di Python\n",
        "\n",
        "class Parrot:\n",
        "  species = \"bird\" # class attribute\n",
        "  def __init__(self, name, age): # instance attribute\n",
        "    self.name = name\n",
        "    self.age = age\n",
        "\n",
        "# instansiasi Parrot class\n",
        "blu = Parrot(\"Blu\", 10)\n",
        "woo = Parrot(\"Woo\", 15)\n",
        "\n",
        "# akses class attributes\n",
        "print(\"Blu is a {}\".format(blu.__class__.species))\n",
        "print(\"Woo is also a {}\".format(woo.__class__.species))\n",
        "\n",
        "# akses instance attributes\n",
        "print(\"{} is {} years old\".format( blu.name, blu.age))\n",
        "print(\"{} is {} years old\".format( woo.name, woo.age))"
      ],
      "metadata": {
        "colab": {
          "base_uri": "https://localhost:8080/"
        },
        "id": "c8krP6CUJvz9",
        "outputId": "419a311c-7c1c-4726-e3b3-ca227bccc19a"
      },
      "execution_count": 24,
      "outputs": [
        {
          "output_type": "stream",
          "name": "stdout",
          "text": [
            "Blu is a bird\n",
            "Woo is also a bird\n",
            "Blu is 10 years old\n",
            "Woo is 15 years old\n"
          ]
        }
      ]
    },
    {
      "cell_type": "markdown",
      "source": [
        "## Object Method\n",
        "Object Method adalah fungsi yang dimiliki oleh objek. Object Method digunakan untuk mendefinisikan perilaku suatu objek."
      ],
      "metadata": {
        "id": "jSxLZSR_2PJy"
      }
    },
    {
      "cell_type": "code",
      "source": [
        "# Contoh 1:\n",
        "class Person:\n",
        "  def __init__(self, firstname, lastname, age, country, city):\n",
        "    self.firstname = firstname\n",
        "    self.lastname = lastname\n",
        "    self.age = age\n",
        "    self.country = country\n",
        "    self.city = city\n",
        "    \n",
        "  def person_info(self):\n",
        "    return f'{self.firstname} {self.lastname} is {self.age} years old. He lives in {self.city}, {self.country}'\n",
        "\n",
        "p = Person('Milaan', 'Parmar', 96, 'England', 'London')\n",
        "print(p.person_info())"
      ],
      "metadata": {
        "colab": {
          "base_uri": "https://localhost:8080/"
        },
        "id": "YKNFyixXK9Zr",
        "outputId": "eef6d094-a4fa-40cd-c1ff-2f4b818e338d"
      },
      "execution_count": 25,
      "outputs": [
        {
          "output_type": "stream",
          "name": "stdout",
          "text": [
            "Milaan Parmar is 96 years old. He lives in London, England\n"
          ]
        }
      ]
    },
    {
      "cell_type": "code",
      "source": [
        "# Contoh 2: Membuat Class dan Object di Python\n",
        "class Parrot:\n",
        "  # instance attributes\n",
        "  def __init__(self, name, age):\n",
        "    self.name = name\n",
        "    self.age = age\n",
        "\n",
        "  # instance method\n",
        "  def sing(self, song):\n",
        "    return \"{} sings {}\".format(self.name, song)\n",
        "    \n",
        "  def dance(self):\n",
        "    return \"{} is now dancing\".format(self.name)"
      ],
      "metadata": {
        "id": "l4SpyKerLeBu"
      },
      "execution_count": 26,
      "outputs": []
    },
    {
      "cell_type": "markdown",
      "source": [
        "`sing()` dan `dance()` disebut instance method karena dipanggil pada instansiasi objek yaitu blu."
      ],
      "metadata": {
        "id": "qdmkqnF44HVS"
      }
    },
    {
      "cell_type": "code",
      "source": [
        "# instansiasi object\n",
        "blu = Parrot(\"Blu\", 10)\n",
        "# call our instance methods\n",
        "print(blu.sing(\"'Happy'\"))\n",
        "print(blu.dance())"
      ],
      "metadata": {
        "colab": {
          "base_uri": "https://localhost:8080/"
        },
        "id": "xw8fQKBYNOHG",
        "outputId": "961b7a1a-8f02-4cc0-db11-d26bdd7901cb"
      },
      "execution_count": 27,
      "outputs": [
        {
          "output_type": "stream",
          "name": "stdout",
          "text": [
            "Blu sings 'Happy'\n",
            "Blu is now dancing\n"
          ]
        }
      ]
    },
    {
      "cell_type": "markdown",
      "source": [
        "## Object Default Methods\n",
        "kita dapat menghindari kesalahan ketika kita memanggil atau membuat instance kelas kita tanpa parameter dengan nilai default pada parameter"
      ],
      "metadata": {
        "id": "LRGOeQ0r4op8"
      }
    },
    {
      "cell_type": "code",
      "source": [
        "class Person:\n",
        "  def __init__(self, firstname='Milaan', lastname='Parmar',\n",
        "  age=96, country='England', city='London'):\n",
        "    self.firstname = firstname\n",
        "    self.lastname = lastname\n",
        "    self.age = age\n",
        "    self.country = country\n",
        "    self.city = city\n",
        "    \n",
        "  def person_info(self):\n",
        "    return f'{self.firstname} {self.lastname} is {self.age} years old. He lives in {self.city}, {self.country}.'\n",
        "\n",
        "p1 = Person()\n",
        "print(p1.person_info())\n",
        "p2 = Person('Ben', 'Doe', 30, 'Finland', 'Tampere')\n",
        "print(p2.person_info())"
      ],
      "metadata": {
        "colab": {
          "base_uri": "https://localhost:8080/"
        },
        "id": "ZsGPqIUiNyOb",
        "outputId": "ee1bb670-69e9-4988-b5a0-5ca056cd6f90"
      },
      "execution_count": 28,
      "outputs": [
        {
          "output_type": "stream",
          "name": "stdout",
          "text": [
            "Milaan Parmar is 96 years old. He lives in London, England.\n",
            "Ben Doe is 30 years old. He lives in Tampere, Finland.\n"
          ]
        }
      ]
    },
    {
      "cell_type": "markdown",
      "source": [
        "## Method untuk memodifikasi nilai default Kelas"
      ],
      "metadata": {
        "id": "KLPIQAPQ5KBo"
      }
    },
    {
      "cell_type": "markdown",
      "source": [
        "Dalam class Person, kita memiliki parameter `skills` yang dapat diakses menggunakan method. Akan dibuat method `add_skill` untuk menambahkan *skill* ke list `skills`."
      ],
      "metadata": {
        "id": "QZUM6SEL6HjY"
      }
    },
    {
      "cell_type": "code",
      "source": [
        "class Person:\n",
        "  def __init__(self, firstname='Milaan', lastname='Parmar',\n",
        "  age=96, country='England', city='London'):\n",
        "    self.firstname = firstname\n",
        "    self.lastname = lastname\n",
        "    self.age = age\n",
        "    self.country = country\n",
        "    self.city = city\n",
        "    self.skills = []\n",
        "    \n",
        "  def person_info(self):\n",
        "    return f'{self.firstname} {self.lastname} is {self.age} years old. He lives in {self.city}, {self.country}.'\n",
        "  \n",
        "  def add_skill(self, skill):\n",
        "    self.skills.append(skill)\n",
        "\n",
        "p1 = Person()\n",
        "print(p1.person_info())\n",
        "p1.add_skill('Python')\n",
        "p1.add_skill('MATLAB')\n",
        "p1.add_skill('R')\n",
        "p2 = Person('Ben', 'Doe', 30, 'Finland', 'Tampere')\n",
        "print(p2.person_info())\n",
        "print(p1.skills)\n",
        "print(p2.skills)"
      ],
      "metadata": {
        "colab": {
          "base_uri": "https://localhost:8080/"
        },
        "id": "EEiu76qqOQfw",
        "outputId": "ee1123cb-120f-447a-ff16-72ab13d5ad54"
      },
      "execution_count": 29,
      "outputs": [
        {
          "output_type": "stream",
          "name": "stdout",
          "text": [
            "Milaan Parmar is 96 years old. He lives in London, England.\n",
            "Ben Doe is 30 years old. He lives in Tampere, Finland.\n",
            "['Python', 'MATLAB', 'R']\n",
            "[]\n"
          ]
        }
      ]
    },
    {
      "cell_type": "markdown",
      "source": [
        "## Inheritance\n",
        "Inheritance adalah proses mewariskan sifat-sifat class dasar (atau\n",
        "parent class) menjadi class turunan (atau child class)."
      ],
      "metadata": {
        "id": "8eJHjr3e6r3G"
      }
    },
    {
      "cell_type": "markdown",
      "source": [
        "Syntax:\n",
        "```\n",
        "class BaseClass:\n",
        "  Body of base class\n",
        "class DerivedClass(BaseClass):\n",
        "  Body of derived class\n",
        "```\n",
        "\n"
      ],
      "metadata": {
        "id": "GpBIX7bf7hyr"
      }
    },
    {
      "cell_type": "code",
      "source": [
        "# Contoh 1: Penggunaan Inheritance di Python\n",
        "class ClassOne: # Base class\n",
        "  def func1(self):\n",
        "    print('This is Parent class')\n",
        "\n",
        "class ClassTwo(ClassOne): # Derived class\n",
        "  def func2(self):\n",
        "    print('This is Child class')\n",
        "\n",
        "obj = ClassTwo()\n",
        "obj.func1()\n",
        "obj.func2()"
      ],
      "metadata": {
        "colab": {
          "base_uri": "https://localhost:8080/"
        },
        "id": "6FczWUpnR6Pn",
        "outputId": "35239cae-8737-4a0b-91f3-e420352c84fa"
      },
      "execution_count": 30,
      "outputs": [
        {
          "output_type": "stream",
          "name": "stdout",
          "text": [
            "This is Parent class\n",
            "This is Child class\n"
          ]
        }
      ]
    },
    {
      "cell_type": "code",
      "source": [
        "# Contoh 2: Penggunaan Inheritance di Python\n",
        "\n",
        "class Student(Person):\n",
        "  pass\n",
        "\n",
        "s1 = Student('Arthur', 'Curry', 33, 'England', 'London')\n",
        "s2 = Student('Emily', 'Carter', 28, 'England', 'Manchester')\n",
        "print(s1.person_info())\n",
        "s1.add_skill('HTML')\n",
        "s1.add_skill('CSS')\n",
        "s1.add_skill('JavaScript')\n",
        "print(s1.skills)\n",
        "\n",
        "print(s2.person_info())\n",
        "s2.add_skill('Organizing')\n",
        "s2.add_skill('Marketing')\n",
        "s2.add_skill('Digital Marketing')\n",
        "print(s2.skills)"
      ],
      "metadata": {
        "colab": {
          "base_uri": "https://localhost:8080/"
        },
        "id": "zjYkMIF8SWjb",
        "outputId": "aa402b63-a0b1-4ab3-c8f4-f1bcd27d1bc6"
      },
      "execution_count": 31,
      "outputs": [
        {
          "output_type": "stream",
          "name": "stdout",
          "text": [
            "Arthur Curry is 33 years old. He lives in London, England.\n",
            "['HTML', 'CSS', 'JavaScript']\n",
            "Emily Carter is 28 years old. He lives in Manchester, England.\n",
            "['Organizing', 'Marketing', 'Digital Marketing']\n"
          ]
        }
      ]
    },
    {
      "cell_type": "markdown",
      "source": [
        "## Overriding parent method"
      ],
      "metadata": {
        "id": "EUDNjHd48NaO"
      }
    },
    {
      "cell_type": "code",
      "source": [
        "# Contoh 2: Overriding parent method dari contoh di atas\n",
        "\n",
        "class Student(Person):\n",
        "  def __init__ (self, firstname='Milaan', lastname='Parmar',age=96,\n",
        "  country='England', city='London', gender='male'):\n",
        "    self.gender = gender\n",
        "    super().__init__(firstname, lastname,age, country, city)\n",
        "\n",
        "  def person_info(self):\n",
        "      gender = 'He' if self.gender =='male' else 'She' \n",
        "      return f'{self.firstname} {self.lastname} is {self.age} years old. {gender} lives in {self.city}, {self.country}.'\n",
        "\n",
        "s1 = Student('Arthur', 'Curry', 33, 'England', 'London','male')\n",
        "s2 = Student('Emily', 'Carter', 28, 'England', 'Manchester','female')\n",
        "print(s1.person_info())\n",
        "s1.add_skill('HTML')\n",
        "s1.add_skill('CSS')\n",
        "s1.add_skill('JavaScript')\n",
        "print(s1.skills)\n",
        "\n",
        "print(s2.person_info())\n",
        "s2.add_skill('Organizing')\n",
        "s2.add_skill('Marketing')\n",
        "s2.add_skill('Digital Marketing')\n",
        "print(s2.skills)"
      ],
      "metadata": {
        "colab": {
          "base_uri": "https://localhost:8080/"
        },
        "id": "LLI0cml5SyDw",
        "outputId": "a1c5c445-16a3-4d47-fa0f-dd2ff13320b5"
      },
      "execution_count": 32,
      "outputs": [
        {
          "output_type": "stream",
          "name": "stdout",
          "text": [
            "Arthur Curry is 33 years old. He lives in London, England.\n",
            "['HTML', 'CSS', 'JavaScript']\n",
            "Emily Carter is 28 years old. She lives in Manchester, England.\n",
            "['Organizing', 'Marketing', 'Digital Marketing']\n"
          ]
        }
      ]
    },
    {
      "cell_type": "code",
      "source": [
        "# Example 3: Use of Inheritance in Python\n",
        "# parent class\n",
        "class Bird:\n",
        "  def __init__(self):\n",
        "    print(\"Bird is ready\")\n",
        "\n",
        "  def whoisThis(self):\n",
        "    print(\"Bird\")\n",
        "    \n",
        "  def swim(self):\n",
        "    print(\"Swim faster\")"
      ],
      "metadata": {
        "id": "UAtn-UBnUNVx"
      },
      "execution_count": 2,
      "outputs": []
    },
    {
      "cell_type": "code",
      "source": [
        "# child class\n",
        "class Penguin(Bird):\n",
        "  def __init__(self):\n",
        "    # call super() function\n",
        "    super().__init__()\n",
        "    print(\"Penguin is ready\")\n",
        "    \n",
        "  def whoisThis(self):\n",
        "    print(\"Penguin\")\n",
        "    \n",
        "  def run(self):\n",
        "    print(\"Run faster\")"
      ],
      "metadata": {
        "id": "-mi4N2gre365"
      },
      "execution_count": 3,
      "outputs": []
    },
    {
      "cell_type": "code",
      "source": [
        "peggy = Penguin()\n",
        "peggy.whoisThis()\n",
        "peggy.swim()\n",
        "peggy.run()"
      ],
      "metadata": {
        "colab": {
          "base_uri": "https://localhost:8080/"
        },
        "id": "RGseuE5kfU6h",
        "outputId": "7a4f9538-c2ea-465c-a107-90f6fce54fcd"
      },
      "execution_count": 4,
      "outputs": [
        {
          "output_type": "stream",
          "name": "stdout",
          "text": [
            "Bird is ready\n",
            "Penguin is ready\n",
            "Penguin\n",
            "Swim faster\n",
            "Run faster\n"
          ]
        }
      ]
    },
    {
      "cell_type": "markdown",
      "source": [
        "## Enkapsulasi\n",
        "Dalam Python, enkapsulasi adalah metode membungkus data dan fungsi menjadi satu entitas. Menggunakan OOP di Python, kita dapat membatasi akses ke method dan variabel. Ini mencegah data\n",
        "dari modifikasi langsung yang disebut enkapsulasi.\n",
        "\n",
        "Kita tulis atribut private menggunakan underscore sebagai prefix yaitu single _ atau double __."
      ],
      "metadata": {
        "id": "2rt0VDg08_Lf"
      }
    },
    {
      "cell_type": "code",
      "source": [
        "# Contoh 1: Data Encapsulation di Python\n",
        "class Computer:\n",
        "  def __init__(self):\n",
        "    self.__maxprice = 900\n",
        "\n",
        "  def sell(self):\n",
        "    print(\"Selling Price: {}\".format(self.__maxprice))\n",
        "\n",
        "  def setMaxPrice(self, price):\n",
        "    self.__maxprice = price\n",
        "\n",
        "c = Computer()\n",
        "c.sell()\n",
        "\n",
        "# mengubah harga\n",
        "c.__maxprice = 1000\n",
        "c.sell()\n",
        "\n",
        "# meggunakan setter function\n",
        "c.setMaxPrice(1000)\n",
        "c.sell()"
      ],
      "metadata": {
        "colab": {
          "base_uri": "https://localhost:8080/"
        },
        "id": "vsccWeibfaGJ",
        "outputId": "ad03384b-9573-4b38-e5e5-77fa8ced5a8f"
      },
      "execution_count": 33,
      "outputs": [
        {
          "output_type": "stream",
          "name": "stdout",
          "text": [
            "Selling Price: 900\n",
            "Selling Price: 900\n",
            "Selling Price: 1000\n"
          ]
        }
      ]
    },
    {
      "cell_type": "markdown",
      "source": [
        "## Polymorphism\n",
        "Polymorphism berasal dari kata Yunani Poly (banyak) dan morphism (bentuk). Kita akan membuat struktur yang dapat mengambil atau menggunakan berbagai bentuk objek.\n",
        "\n",
        "Polymorphism adalah kemampuan untuk menggunakan common interface untuk berbagai bentuk (data\n",
        "types)."
      ],
      "metadata": {
        "id": "CjY91NQN_T9q"
      }
    },
    {
      "cell_type": "code",
      "source": [
        "# Example 1: Using Polymorphism in Python\n",
        "\n",
        "class Parrot:\n",
        "  def fly(self):\n",
        "    print(\"Parrot can fly\")\n",
        "\n",
        "  def swim(self):\n",
        "    print(\"Parrot can't swim\")\n",
        "\n",
        "class Penguin:\n",
        "  def fly(self):\n",
        "    print(\"Penguin can't fly\")\n",
        "\n",
        "  def swim(self):\n",
        "    print(\"Penguin can swim\")\n",
        "\n",
        "# common interface\n",
        "def flying_test(bird):\n",
        "  bird.fly()\n",
        "\n",
        "#instantiate objects\n",
        "blu = Parrot()\n",
        "peggy = Penguin()\n",
        "\n",
        "# passing the object\n",
        "flying_test(blu)\n",
        "flying_test(peggy)"
      ],
      "metadata": {
        "colab": {
          "base_uri": "https://localhost:8080/"
        },
        "id": "biG1LTEIf-Dp",
        "outputId": "be66f382-29a5-48fb-8713-e26d87689f57"
      },
      "execution_count": 6,
      "outputs": [
        {
          "output_type": "stream",
          "name": "stdout",
          "text": [
            "Parrot can fly\n",
            "Penguin can't fly\n"
          ]
        }
      ]
    },
    {
      "cell_type": "code",
      "source": [
        "# Example 2: Using Polymorphism in Python\n",
        "\n",
        "class Circle:\n",
        "  pi = 3.14\n",
        "\n",
        "  def __init__(self, redius):\n",
        "    self.radius = redius\n",
        "\n",
        "  def calculate_area(self):\n",
        "    print(\"Area of circle:\", self.pi * self.radius * self.radius)\n",
        "\n",
        "class Rectangle:\n",
        "  def __init__(self, length, width):\n",
        "    self.length = length\n",
        "    self.width = width\n",
        "\n",
        "  def calculate_area(self):\n",
        "    print(\"Area of Rectangle:\", self.length * self.width)\n",
        "\n",
        "cir = Circle(9)\n",
        "rect = Rectangle(9, 6)\n",
        "\n",
        "cir.calculate_area() # Output Area of circle: 254.34\n",
        "rect.calculate_area() # Output Area of Rectangle: 54"
      ],
      "metadata": {
        "colab": {
          "base_uri": "https://localhost:8080/"
        },
        "id": "r_xJj1OTgl45",
        "outputId": "6bfaf312-2589-4943-a9a2-4f75a898b39c"
      },
      "execution_count": 8,
      "outputs": [
        {
          "output_type": "stream",
          "name": "stdout",
          "text": [
            "Area of circle: 254.34\n",
            "Area of Rectangle: 54\n"
          ]
        }
      ]
    }
  ]
}