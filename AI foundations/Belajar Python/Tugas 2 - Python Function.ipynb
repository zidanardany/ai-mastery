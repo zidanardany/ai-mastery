{
  "nbformat": 4,
  "nbformat_minor": 0,
  "metadata": {
    "colab": {
      "name": "Tugas 2.ipynb",
      "provenance": []
    },
    "kernelspec": {
      "name": "python3",
      "display_name": "Python 3"
    },
    "language_info": {
      "name": "python"
    }
  },
  "cells": [
    {
      "cell_type": "code",
      "execution_count": 8,
      "metadata": {
        "colab": {
          "base_uri": "https://localhost:8080/"
        },
        "id": "CQG3TVpe6Spr",
        "outputId": "ccf9b1b9-32ff-4915-bc37-92e2c8dc1139"
      },
      "outputs": [
        {
          "output_type": "stream",
          "name": "stdout",
          "text": [
            "==========================================\n",
            "Selamat datang di kalkulator sederhana\n",
            "\n",
            "kalkulator ini hanya menerima operasi \n",
            "  - penjumlahan (+)\n",
            "  - pengurangan (-)\n",
            "  - perkalian   (x)\n",
            "  - pembagian   (-)\n",
            "\n",
            "Note: masukkan operator yang sama levelnya\n",
            "untuk mendapatkan akurasi penghitungan, \n",
            "karena aplikasi ini akan mengoperasikan \n",
            "setiap 2 inputan terlebih dahulu.\n",
            "==========================================\n",
            "\n",
            "masukkan angka : 10\n",
            "operasi : +\n",
            "masukkan angka : 20\n",
            "operasi : -\n",
            "masukkan angka : 6\n",
            "operasi : =\n",
            "hasil = 24.0\n"
          ]
        }
      ],
      "source": [
        "tambah = (lambda x,y: x+y)\n",
        "kurang = (lambda x,y: x-y)\n",
        "kali = (lambda x,y: x*y)\n",
        "bagi = (lambda x,y: x/y)\n",
        "\n",
        "def kalkulator(x,y):\n",
        "  try:\n",
        "    operasi = {'+':'+', '-':'-', 'x':'x', '/':'/'}\n",
        "    if operator == operasi['+']:\n",
        "      return tambah(x,y)\n",
        "    elif operator == operasi['-']:\n",
        "      return kurang(x,y)\n",
        "    elif operator == operasi['x']:\n",
        "      return kali(x,y)\n",
        "    elif operator == operasi['/']:\n",
        "      try:\n",
        "        return bagi(x,y)\n",
        "      except:\n",
        "        print('Tidak boleh membagi dengan nol!')\n",
        "    else:\n",
        "      print(\"tidak ada operasi tersebut!\")\n",
        "  except:\n",
        "    print(\"mohon masukkan input yang benar!\")\n",
        "\n",
        "print('''==========================================\n",
        "Selamat datang di kalkulator sederhana\n",
        "\n",
        "kalkulator ini hanya menerima operasi \n",
        "  - penjumlahan (+)\n",
        "  - pengurangan (-)\n",
        "  - perkalian   (x)\n",
        "  - pembagian   (-)\n",
        "\n",
        "Note: masukkan operator yang sama levelnya\n",
        "untuk mendapatkan akurasi penghitungan, \n",
        "karena aplikasi ini akan mengoperasikan \n",
        "setiap 2 inputan terlebih dahulu.\n",
        "==========================================\\n''')\n",
        "\n",
        "angka1 = float(input('masukkan angka : '))\n",
        "while True:\n",
        "  operator = str(input('operasi : '))\n",
        "  if operator == '=':\n",
        "    break\n",
        "  angka2 = float(input('masukkan angka : '))\n",
        "  angka1 = kalkulator(angka1, angka2)\n",
        "  \n",
        "print('hasil =', angka1)"
      ]
    },
    {
      "cell_type": "code",
      "source": [
        ""
      ],
      "metadata": {
        "colab": {
          "base_uri": "https://localhost:8080/"
        },
        "id": "ZF5JlU49c1tz",
        "outputId": "98a5ce58-eb08-483a-e54f-f6fffd03a32f"
      },
      "execution_count": 2,
      "outputs": [
        {
          "output_type": "stream",
          "name": "stdout",
          "text": [
            "ya\n"
          ]
        }
      ]
    }
  ]
}