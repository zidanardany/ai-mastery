{
  "nbformat": 4,
  "nbformat_minor": 0,
  "metadata": {
    "colab": {
      "name": "Tugas 08/03/22.ipynb",
      "provenance": [],
      "collapsed_sections": [
        "zZ55t3s6AdOf",
        "buyeCm57E3za",
        "myyJvDHUHABw",
        "wcUXuqtzIj-j"
      ]
    },
    "kernelspec": {
      "name": "python3",
      "display_name": "Python 3"
    },
    "language_info": {
      "name": "python"
    }
  },
  "cells": [
    {
      "cell_type": "markdown",
      "source": [
        "Nama : Mochammad Zidan Ardany\n",
        "\n",
        "Kelas : Atlas"
      ],
      "metadata": {
        "id": "WCPpjJ31g5ZF"
      }
    },
    {
      "cell_type": "markdown",
      "source": [
        "# Operasi Matematika & Numpy"
      ],
      "metadata": {
        "id": "wTVKUDyjAPbd"
      }
    },
    {
      "cell_type": "code",
      "execution_count": 2,
      "metadata": {
        "id": "nSY2tgAeg2me"
      },
      "outputs": [],
      "source": [
        "import numpy as np"
      ]
    },
    {
      "cell_type": "markdown",
      "source": [
        "## Pengenalan array"
      ],
      "metadata": {
        "id": "zZ55t3s6AdOf"
      }
    },
    {
      "cell_type": "code",
      "source": [
        "# 1D array\n",
        "a = np.array([[1, 3, 0], [2, 4, 1], [3, 6, 7]])\n",
        "print('banyaknya entry =', a.size)\n",
        "print('dimensi array =', a.ndim)\n",
        "print('ukuran array =', a.shape)"
      ],
      "metadata": {
        "colab": {
          "base_uri": "https://localhost:8080/"
        },
        "id": "cIy7Uhx2Ah-i",
        "outputId": "92c3bb01-21db-4f04-9898-ee139e619cd4"
      },
      "execution_count": 3,
      "outputs": [
        {
          "output_type": "stream",
          "name": "stdout",
          "text": [
            "banyaknya entry = 9\n",
            "dimensi array = 2\n",
            "ukuran array = (3, 3)\n"
          ]
        }
      ]
    },
    {
      "cell_type": "code",
      "source": [
        "# Slicing\n",
        "a[:]"
      ],
      "metadata": {
        "colab": {
          "base_uri": "https://localhost:8080/"
        },
        "id": "gu6DtSDHBevM",
        "outputId": "e44c8451-a838-4cea-ca15-760c8a0f3d3e"
      },
      "execution_count": 4,
      "outputs": [
        {
          "output_type": "execute_result",
          "data": {
            "text/plain": [
              "array([[1, 3, 0],\n",
              "       [2, 4, 1],\n",
              "       [3, 6, 7]])"
            ]
          },
          "metadata": {},
          "execution_count": 4
        }
      ]
    },
    {
      "cell_type": "code",
      "source": [
        "# Slicing\n",
        "a[:2]"
      ],
      "metadata": {
        "colab": {
          "base_uri": "https://localhost:8080/"
        },
        "id": "hKW-S0ftBj-N",
        "outputId": "244b397e-6e2c-4d2f-ec6a-46011152c93a"
      },
      "execution_count": 5,
      "outputs": [
        {
          "output_type": "execute_result",
          "data": {
            "text/plain": [
              "array([[1, 3, 0],\n",
              "       [2, 4, 1]])"
            ]
          },
          "metadata": {},
          "execution_count": 5
        }
      ]
    },
    {
      "cell_type": "code",
      "source": [
        "# Slicing\n",
        "a[2]"
      ],
      "metadata": {
        "colab": {
          "base_uri": "https://localhost:8080/"
        },
        "id": "OZJIQcNSBvWH",
        "outputId": "c565e8aa-a9fe-4abb-bf6e-d4325adcb518"
      },
      "execution_count": 6,
      "outputs": [
        {
          "output_type": "execute_result",
          "data": {
            "text/plain": [
              "array([3, 6, 7])"
            ]
          },
          "metadata": {},
          "execution_count": 6
        }
      ]
    },
    {
      "cell_type": "code",
      "source": [
        "# Slicing\n",
        "a[1:]"
      ],
      "metadata": {
        "colab": {
          "base_uri": "https://localhost:8080/"
        },
        "id": "khv1P4w6B9k7",
        "outputId": "f5a1a2e6-0198-4c6f-8614-c34628005d14"
      },
      "execution_count": 7,
      "outputs": [
        {
          "output_type": "execute_result",
          "data": {
            "text/plain": [
              "array([[2, 4, 1],\n",
              "       [3, 6, 7]])"
            ]
          },
          "metadata": {},
          "execution_count": 7
        }
      ]
    },
    {
      "cell_type": "code",
      "source": [
        "print('a[1:3] =', a[1:3])\n",
        "print('a[:3] =', a[:3])                                                                                                                                                                                                                                                                                                                                                                                                                                                                  "
      ],
      "metadata": {
        "colab": {
          "base_uri": "https://localhost:8080/"
        },
        "id": "0C5oFVj-CP3W",
        "outputId": "48228bc1-71a8-424c-d9cf-fba78dc7529e"
      },
      "execution_count": 8,
      "outputs": [
        {
          "output_type": "stream",
          "name": "stdout",
          "text": [
            "a[1:3] = [[2 4 1]\n",
            " [3 6 7]]\n",
            "a[:3] = [[1 3 0]\n",
            " [2 4 1]\n",
            " [3 6 7]]\n"
          ]
        }
      ]
    },
    {
      "cell_type": "code",
      "source": [
        "# 2D Array (Matriks)\n",
        "A = np.array([[1, 2, 3], [4, 5, 6], [7, 8, 9]])\n",
        "print(A)"
      ],
      "metadata": {
        "colab": {
          "base_uri": "https://localhost:8080/"
        },
        "id": "t-UceI7NESBa",
        "outputId": "0b9d97fb-1891-4f99-bd66-e0a8e2378ccf"
      },
      "execution_count": 9,
      "outputs": [
        {
          "output_type": "stream",
          "name": "stdout",
          "text": [
            "[[1 2 3]\n",
            " [4 5 6]\n",
            " [7 8 9]]\n"
          ]
        }
      ]
    },
    {
      "cell_type": "markdown",
      "source": [
        "## Latihan-2 (2D array)"
      ],
      "metadata": {
        "id": "buyeCm57E3za"
      }
    },
    {
      "cell_type": "code",
      "source": [
        "# lengkapi kodingan berikut\n",
        "print('banyaknya entry =', A.size)\n",
        "print('dimensi array =', A.ndim)\n",
        "print('ukuran array =', A.shape)"
      ],
      "metadata": {
        "colab": {
          "base_uri": "https://localhost:8080/"
        },
        "id": "8KO3Z6jRE0Tn",
        "outputId": "84589ae7-426b-4b71-eae5-05ab2eca0e3a"
      },
      "execution_count": 10,
      "outputs": [
        {
          "output_type": "stream",
          "name": "stdout",
          "text": [
            "banyaknya entry = 9\n",
            "dimensi array = 2\n",
            "ukuran array = (3, 3)\n"
          ]
        }
      ]
    },
    {
      "cell_type": "code",
      "source": [
        "# Slicing\n",
        "print('baris ke-2 =', A[1])\n",
        "print('entry ke-2 & 3 baris ke-2 =', A[1, 1:])\n",
        "print('entry pertama & 2 kolom ke-2 =', A[:2,1])"
      ],
      "metadata": {
        "colab": {
          "base_uri": "https://localhost:8080/"
        },
        "id": "L4UayuZcFbq1",
        "outputId": "7925bf45-7e24-429c-8c54-898bad3b8e62"
      },
      "execution_count": 11,
      "outputs": [
        {
          "output_type": "stream",
          "name": "stdout",
          "text": [
            "baris ke-2 = [4 5 6]\n",
            "entry ke-2 & 3 baris ke-2 = [5 6]\n",
            "entry pertama & 2 kolom ke-2 = [2 5]\n"
          ]
        }
      ]
    },
    {
      "cell_type": "markdown",
      "source": [
        "## Latihan-3 (Slicing)"
      ],
      "metadata": {
        "id": "myyJvDHUHABw"
      }
    },
    {
      "cell_type": "code",
      "source": [
        "# lengkapi kodingan berikut\n",
        "print('baris ke-3 =', A[2])\n",
        "print('entry ke-1 & 2 baris ke-3 =', A[2,0:2])\n",
        "print('entry ke-2 & 3 kolom ke-3 =', A[1:,2])"
      ],
      "metadata": {
        "colab": {
          "base_uri": "https://localhost:8080/"
        },
        "id": "RBLwy0x5HwZD",
        "outputId": "7a3e8da4-5687-41e7-97d0-ed9ebdbead95"
      },
      "execution_count": 12,
      "outputs": [
        {
          "output_type": "stream",
          "name": "stdout",
          "text": [
            "baris ke-3 = [7 8 9]\n",
            "entry ke-1 & 2 baris ke-3 = [7 8]\n",
            "entry ke-2 & 3 kolom ke-3 = [6 9]\n"
          ]
        }
      ]
    },
    {
      "cell_type": "markdown",
      "source": [
        "## Operasi Matematika di Numpy"
      ],
      "metadata": {
        "id": "wcUXuqtzIj-j"
      }
    },
    {
      "cell_type": "code",
      "source": [
        "C = A*A\n",
        "print('perkalian antar entry = ')\n",
        "print(C)"
      ],
      "metadata": {
        "colab": {
          "base_uri": "https://localhost:8080/"
        },
        "id": "lTDWAtI1I2DZ",
        "outputId": "6806e54a-cca4-46fc-c70a-27ae6531707c"
      },
      "execution_count": 13,
      "outputs": [
        {
          "output_type": "stream",
          "name": "stdout",
          "text": [
            "perkalian antar entry = \n",
            "[[ 1  4  9]\n",
            " [16 25 36]\n",
            " [49 64 81]]\n"
          ]
        }
      ]
    },
    {
      "cell_type": "code",
      "source": [
        "print('perkalian matriks =')\n",
        "print(np.matmul(A,A))"
      ],
      "metadata": {
        "colab": {
          "base_uri": "https://localhost:8080/"
        },
        "id": "7JXurT6BKExk",
        "outputId": "373dd910-12ae-4afd-b0ca-21df40737b43"
      },
      "execution_count": 14,
      "outputs": [
        {
          "output_type": "stream",
          "name": "stdout",
          "text": [
            "perkalian matriks =\n",
            "[[ 30  36  42]\n",
            " [ 66  81  96]\n",
            " [102 126 150]]\n"
          ]
        }
      ]
    },
    {
      "cell_type": "markdown",
      "source": [
        "berbeda dengan perkalian matriks biasa, perkalian matriks antar entry mengalikan masing masing entry yang sama posisinya"
      ],
      "metadata": {
        "id": "D5mHaKXgInfA"
      }
    },
    {
      "cell_type": "code",
      "source": [
        "print('determinan matriks A =', np.linalg.det(A))\n",
        "print('determinan matriks C =', np.linalg.det(C))"
      ],
      "metadata": {
        "colab": {
          "base_uri": "https://localhost:8080/"
        },
        "id": "chqBj9ZTl6VB",
        "outputId": "ad79b74c-bfba-4ec4-f3e1-f7e251576a6a"
      },
      "execution_count": 15,
      "outputs": [
        {
          "output_type": "stream",
          "name": "stdout",
          "text": [
            "determinan matriks A = 0.0\n",
            "determinan matriks C = -216.00000000000006\n"
          ]
        }
      ]
    },
    {
      "cell_type": "code",
      "source": [
        "print('nilai dan vektor eigen matriks A =', np.linalg.eig(A))"
      ],
      "metadata": {
        "colab": {
          "base_uri": "https://localhost:8080/"
        },
        "id": "JF-nbKpnoDH_",
        "outputId": "bca1be51-090d-4a18-b4cd-f8e606855526"
      },
      "execution_count": 16,
      "outputs": [
        {
          "output_type": "stream",
          "name": "stdout",
          "text": [
            "nilai dan vektor eigen matriks A = (array([ 1.61168440e+01, -1.11684397e+00, -1.30367773e-15]), array([[-0.23197069, -0.78583024,  0.40824829],\n",
            "       [-0.52532209, -0.08675134, -0.81649658],\n",
            "       [-0.8186735 ,  0.61232756,  0.40824829]]))\n"
          ]
        }
      ]
    },
    {
      "cell_type": "code",
      "source": [
        "print('nilai eigen matriks A =', np.linalg.eig(A)[0])"
      ],
      "metadata": {
        "colab": {
          "base_uri": "https://localhost:8080/"
        },
        "id": "WxBMz6k4oTTx",
        "outputId": "acc417fa-76b9-4253-8930-3fc054f90f35"
      },
      "execution_count": 17,
      "outputs": [
        {
          "output_type": "stream",
          "name": "stdout",
          "text": [
            "nilai eigen matriks A = [ 1.61168440e+01 -1.11684397e+00 -1.30367773e-15]\n"
          ]
        }
      ]
    },
    {
      "cell_type": "code",
      "source": [
        "print('vektor eigen matriks A =', np.linalg.eig(A)[1])"
      ],
      "metadata": {
        "colab": {
          "base_uri": "https://localhost:8080/"
        },
        "id": "ZvuFcMBdob_e",
        "outputId": "9c837fad-2b07-458e-a84f-fbc8ea9b0dea"
      },
      "execution_count": 18,
      "outputs": [
        {
          "output_type": "stream",
          "name": "stdout",
          "text": [
            "vektor eigen matriks A = [[-0.23197069 -0.78583024  0.40824829]\n",
            " [-0.52532209 -0.08675134 -0.81649658]\n",
            " [-0.8186735   0.61232756  0.40824829]]\n"
          ]
        }
      ]
    },
    {
      "cell_type": "code",
      "source": [
        "# mengambil eigen vector pertama [-0.23197069 -0.78583024  0.40824829]\n",
        "e_vec = np.linalg.eig(A)[1][:, 0]\n",
        "# mengambil eigen value pertama (1.61168440e+01)\n",
        "e_val = np.linalg.eig(A)[0][0]"
      ],
      "metadata": {
        "id": "DBmCT_rbokGq"
      },
      "execution_count": 20,
      "outputs": []
    },
    {
      "cell_type": "code",
      "source": [
        "# hasil A * eigen vector\n",
        "print(np.matmul(A, e_vec))"
      ],
      "metadata": {
        "colab": {
          "base_uri": "https://localhost:8080/"
        },
        "id": "awgAtRk1pncS",
        "outputId": "2a95684f-77e4-4a45-cf0f-2f12cb27c5fe"
      },
      "execution_count": 21,
      "outputs": [
        {
          "output_type": "stream",
          "name": "stdout",
          "text": [
            "[ -3.73863537  -8.46653421 -13.19443305]\n"
          ]
        }
      ]
    },
    {
      "cell_type": "code",
      "source": [
        "# hasil eigen value * eigen vector (Hasilnya sama)\n",
        "print(e_val*e_vec)"
      ],
      "metadata": {
        "colab": {
          "base_uri": "https://localhost:8080/"
        },
        "id": "W0J3xGSvp2LU",
        "outputId": "cdadae2b-fa61-45bf-a815-a1c490a46565"
      },
      "execution_count": 26,
      "outputs": [
        {
          "output_type": "stream",
          "name": "stdout",
          "text": [
            "[ -3.73863537  -8.46653421 -13.19443305]\n"
          ]
        }
      ]
    },
    {
      "cell_type": "markdown",
      "source": [
        "## Latihan-4 (Operasi matriks)"
      ],
      "metadata": {
        "id": "Cipznntkk-PY"
      }
    },
    {
      "cell_type": "code",
      "source": [
        "A = np.array([[1, 2], [7, 8]])\n",
        "B = np.array([[3, 5], [1, 6]])"
      ],
      "metadata": {
        "id": "Zw3BR0NTqemM"
      },
      "execution_count": 27,
      "outputs": []
    },
    {
      "cell_type": "markdown",
      "source": [
        "Hitunglah:\n",
        "*   2*A\n",
        "*   2+A\n",
        "*   A+B\n",
        "*   A-B\n",
        "*   determinan A\n",
        "*   Invers dari B, simpan jadi matriks D\n",
        "*   transpose D\n",
        "*   nilai eigen dan vektor eigen dari A dan B\n"
      ],
      "metadata": {
        "id": "DGGyYCVFq_rn"
      }
    },
    {
      "cell_type": "code",
      "source": [
        "# Ketik kode disini\n",
        "print(\"Hasil dari 2*A :\\n\", 2*A)\n",
        "print(\"Hasil dari 2+A :\\n\", 2+A)\n",
        "print(\"Hasil dari A+B :\\n\", A+B)\n",
        "print(\"Hasil dari A-B :\\n\", A-B)\n",
        "print(\"Hasil dari Determinan A :\", np.linalg.det(A))\n",
        "\n",
        "D = np.linalg.inv(B)\n",
        "print(\"Hasil dari invers B :\\n\", D)\n",
        "print(\"Hasil dari transpose D :\\n\", D.T)\n",
        "print(\"nilai eigen matriks A =\", np.linalg.eig(A)[0])\n",
        "print(\"vektor eigen matriks A =\\n\", np.linalg.eig(A)[1])\n",
        "print(\"nilai eigen matriks B =\", np.linalg.eig(B)[0])\n",
        "print(\"vektor eigen matriks B =\\n\", np.linalg.eig(B)[1])"
      ],
      "metadata": {
        "colab": {
          "base_uri": "https://localhost:8080/"
        },
        "id": "yhQC_z2_sGaw",
        "outputId": "8e3fd7e2-1902-4be9-f1cf-931c6dda7543"
      },
      "execution_count": 37,
      "outputs": [
        {
          "output_type": "stream",
          "name": "stdout",
          "text": [
            "Hasil dari 2*A :\n",
            " [[ 2  4]\n",
            " [14 16]]\n",
            "Hasil dari 2+A :\n",
            " [[ 3  4]\n",
            " [ 9 10]]\n",
            "Hasil dari A+B :\n",
            " [[ 4  7]\n",
            " [ 8 14]]\n",
            "Hasil dari A-B :\n",
            " [[-2 -3]\n",
            " [ 6  2]]\n",
            "Hasil dari Determinan A : -6.0\n",
            "Hasil dari invers B :\n",
            " [[ 0.46153846 -0.38461538]\n",
            " [-0.07692308  0.23076923]]\n",
            "Hasil dari transpose D :\n",
            " [[ 0.46153846 -0.07692308]\n",
            " [-0.38461538  0.23076923]]\n",
            "nilai eigen matriks A = [-0.62347538  9.62347538]\n",
            "vektor eigen matriks A =\n",
            " [[-0.77640358 -0.22592838]\n",
            " [ 0.63023605 -0.97414391]]\n",
            "nilai eigen matriks B = [1.8074176 7.1925824]\n",
            "vektor eigen matriks B =\n",
            " [[-0.97271381 -0.76626443]\n",
            " [ 0.23200828 -0.64252535]]\n"
          ]
        }
      ]
    },
    {
      "cell_type": "markdown",
      "source": [
        "Apa perbedaan dari B*D (perkalian antar entry di B dan D) dan BD (perkalian matriks B dan D)?"
      ],
      "metadata": {
        "id": "GZP3iKl0s-ZD"
      }
    },
    {
      "cell_type": "code",
      "source": [
        "# Tunjukkan bedanya di kodingan di bawah ini\n",
        "# perkalian antar entry\n",
        "F = B*D\n",
        "print('perkalian antar entry =')  \n",
        "print(F)\n",
        "# perkalian matriks biasa\n",
        "print(np.matmul(B,D))                                                                                                                                                                                                                                          "
      ],
      "metadata": {
        "colab": {
          "base_uri": "https://localhost:8080/"
        },
        "id": "dw5EyPIUtAaX",
        "outputId": "e4c74bc0-d52f-4143-ede5-878d69fd8386"
      },
      "execution_count": 36,
      "outputs": [
        {
          "output_type": "stream",
          "name": "stdout",
          "text": [
            "perkalian antar entry =\n",
            "[[ 1.38461538 -1.92307692]\n",
            " [-0.07692308  1.38461538]]\n",
            "[[ 1.00000000e+00 -1.11022302e-16]\n",
            " [ 1.11022302e-16  1.00000000e+00]]\n"
          ]
        }
      ]
    },
    {
      "cell_type": "markdown",
      "source": [
        ""
      ],
      "metadata": {
        "id": "DSrqfPio6Vej"
      }
    }
  ]
}